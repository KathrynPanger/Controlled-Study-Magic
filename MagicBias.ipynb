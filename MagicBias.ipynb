{
 "metadata": {
  "language_info": {
   "codemirror_mode": {
    "name": "ipython",
    "version": 3
   },
   "file_extension": ".py",
   "mimetype": "text/x-python",
   "name": "python",
   "nbconvert_exporter": "python",
   "pygments_lexer": "ipython3",
   "version": "3.8.5"
  },
  "orig_nbformat": 2,
  "kernelspec": {
   "name": "python385jvsc74a57bd09a492a932a5bed98d6f8e1b5f1ae1d46b2b5df4ebd9e59fb2d1181a1f217f2fd",
   "display_name": "Python 3.8.5 64-bit ('base': conda)"
  }
 },
 "nbformat": 4,
 "nbformat_minor": 2,
 "cells": [
  {
   "source": [
    "<h1>Testing Spell Efficacy: A Controlled Study</h1>\n",
    "<h2>Using magic to create statistical bias in a randomly generated list of integers between 0 and 100</h2>\n",
    "This code randomly generates two lists. The first list is generated without a magic spell having been cast upon the computer/notebook to create bias in the numbers generated. The experimental group is generated after the magic spell for bias has been cast. A regression test is conducted on the test and control groups to see if there is a statsitically significant difference between the values of the two lists at 95% confidence. The results represent the chances of getting the result that we did because of the magic spell [h1] as opposed to random chance [h0]. This study is reproduceable. Simply run the cells again, casting the magic spell at the correct time. "
   ],
   "cell_type": "markdown",
   "metadata": {}
  },
  {
   "cell_type": "code",
   "execution_count": 1,
   "metadata": {},
   "outputs": [],
   "source": [
    "import random\n",
    "import pandas as pd\n",
    "from functions import linregress as lr"
   ]
  },
  {
   "cell_type": "code",
   "execution_count": 2,
   "metadata": {},
   "outputs": [],
   "source": [
    "#Generate Dependent Variable\n",
    "is_enchanted=[]\n",
    "#Generate Control Group\n",
    "value=[]\n",
    "for i in range(0,60):\n",
    "    d = random.randint(0,100)\n",
    "    value.append(d)\n",
    "    is_enchanted.append(0)"
   ]
  },
  {
   "source": [
    "<h2>Cast Spell Now</h2>"
   ],
   "cell_type": "markdown",
   "metadata": {}
  },
  {
   "cell_type": "code",
   "execution_count": 3,
   "metadata": {},
   "outputs": [],
   "source": [
    "#Generate Test Group\n",
    "for i in range(0,60):\n",
    "    d = random.randint(0,100)\n",
    "    value.append(d)\n",
    "    is_enchanted.append(1)"
   ]
  },
  {
   "cell_type": "code",
   "execution_count": 4,
   "metadata": {},
   "outputs": [],
   "source": [
    "study={\"Enchanted\": is_enchanted, \"Value\": value}"
   ]
  },
  {
   "cell_type": "code",
   "execution_count": 5,
   "metadata": {},
   "outputs": [
    {
     "output_type": "execute_result",
     "data": {
      "text/plain": [
       "     Enchanted  Value\n",
       "0            0     73\n",
       "1            0     22\n",
       "2            0     68\n",
       "3            0     68\n",
       "4            0     57\n",
       "..         ...    ...\n",
       "115          1     95\n",
       "116          1     91\n",
       "117          1     39\n",
       "118          1     13\n",
       "119          1     14\n",
       "\n",
       "[120 rows x 2 columns]"
      ],
      "text/html": "<div>\n<style scoped>\n    .dataframe tbody tr th:only-of-type {\n        vertical-align: middle;\n    }\n\n    .dataframe tbody tr th {\n        vertical-align: top;\n    }\n\n    .dataframe thead th {\n        text-align: right;\n    }\n</style>\n<table border=\"1\" class=\"dataframe\">\n  <thead>\n    <tr style=\"text-align: right;\">\n      <th></th>\n      <th>Enchanted</th>\n      <th>Value</th>\n    </tr>\n  </thead>\n  <tbody>\n    <tr>\n      <th>0</th>\n      <td>0</td>\n      <td>73</td>\n    </tr>\n    <tr>\n      <th>1</th>\n      <td>0</td>\n      <td>22</td>\n    </tr>\n    <tr>\n      <th>2</th>\n      <td>0</td>\n      <td>68</td>\n    </tr>\n    <tr>\n      <th>3</th>\n      <td>0</td>\n      <td>68</td>\n    </tr>\n    <tr>\n      <th>4</th>\n      <td>0</td>\n      <td>57</td>\n    </tr>\n    <tr>\n      <th>...</th>\n      <td>...</td>\n      <td>...</td>\n    </tr>\n    <tr>\n      <th>115</th>\n      <td>1</td>\n      <td>95</td>\n    </tr>\n    <tr>\n      <th>116</th>\n      <td>1</td>\n      <td>91</td>\n    </tr>\n    <tr>\n      <th>117</th>\n      <td>1</td>\n      <td>39</td>\n    </tr>\n    <tr>\n      <th>118</th>\n      <td>1</td>\n      <td>13</td>\n    </tr>\n    <tr>\n      <th>119</th>\n      <td>1</td>\n      <td>14</td>\n    </tr>\n  </tbody>\n</table>\n<p>120 rows × 2 columns</p>\n</div>"
     },
     "metadata": {},
     "execution_count": 5
    }
   ],
   "source": [
    "df=pd.DataFrame(study)\n",
    "df"
   ]
  },
  {
   "cell_type": "code",
   "execution_count": 6,
   "metadata": {},
   "outputs": [
    {
     "output_type": "stream",
     "name": "stdout",
     "text": [
      "Optimization terminated successfully.\n         Current function value: 0.692002\n         Iterations 3\nLOG ODDS\n                           Logit Regression Results                           \n==============================================================================\nDep. Variable:              Enchanted   No. Observations:                  120\nModel:                          Logit   Df Residuals:                      118\nMethod:                           MLE   Df Model:                            1\nDate:                Sun, 18 Apr 2021   Pseudo R-squ.:                0.001652\nTime:                        02:01:08   Log-Likelihood:                -83.040\nconverged:                       True   LL-Null:                       -83.178\nCovariance Type:            nonrobust   LLR p-value:                    0.6001\n==============================================================================\n                 coef    std err          z      P>|z|      [0.025      0.975]\n------------------------------------------------------------------------------\nIntercept     -0.1688      0.371     -0.456      0.649      -0.895       0.558\nValue          0.0032      0.006      0.524      0.601      -0.009       0.015\n==============================================================================\nIntercept    0.844663\nValue        1.003202\ndtype: float64\n"
     ]
    }
   ],
   "source": [
    "lr(df,\"Enchanted\", \"Value\")"
   ]
  },
  {
   "source": [
    "<h2>Interpreting Results</h2>\n",
    "Now, examine the P-value (P>|t|) for the variable \"Value\" (not for intercept, this does not tell us anything). This number represnets how confident we can be that casting a spell DOES NOT create bias in our number generation. If P<0.05, we can be 95% confident that the two groups are come from distinct populations, and that our results are not due to random chance. The residuals plot visualizes the results. For maximum rigor, repeat the study several times."
   ],
   "cell_type": "markdown",
   "metadata": {}
  },
  {
   "source": [
    "<h2>Avoiding Cherry-Picking</h2>\n",
    "In order to make sure that anyone who reproduces this study isn't simply running the code over and over again untill they get the false-positive result they are hoping for To check for this, you must re-run the code above several times, casting a magic spell each time for the experimental condition. Log your results and send me your evidence at kpanger88@gmail.com. You must provide proof that you executed the code at least 10 times, casting your your spell each time at the correct time. The best way to do this is with video screencapture evidence. Other forms of evidence are easily tamepered with."
   ],
   "cell_type": "markdown",
   "metadata": {}
  },
  {
   "cell_type": "code",
   "execution_count": null,
   "metadata": {},
   "outputs": [],
   "source": []
  },
  {
   "cell_type": "code",
   "execution_count": null,
   "metadata": {},
   "outputs": [],
   "source": []
  }
 ]
}
