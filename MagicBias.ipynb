{
 "metadata": {
  "language_info": {
   "codemirror_mode": {
    "name": "ipython",
    "version": 3
   },
   "file_extension": ".py",
   "mimetype": "text/x-python",
   "name": "python",
   "nbconvert_exporter": "python",
   "pygments_lexer": "ipython3",
   "version": "3.8.5"
  },
  "orig_nbformat": 2,
  "kernelspec": {
   "name": "python385jvsc74a57bd09a492a932a5bed98d6f8e1b5f1ae1d46b2b5df4ebd9e59fb2d1181a1f217f2fd",
   "display_name": "Python 3.8.5 64-bit ('base': conda)"
  }
 },
 "nbformat": 4,
 "nbformat_minor": 2,
 "cells": [
  {
   "source": [
    "<h1>Testing Spell Efficacy: A Controlled Study</h1>\n",
    "<h2>Using magic to create statistical bias in a randomly generated list of integers between 0 and 100</h2>\n",
    "This code randomly generates two lists. The first list is generated without a magic spell having been cast upon the computer/notebook to create bias in the numbers generated. The experimental group is generated after the magic spell for bias has been cast. A regression test is conducted on the test and control groups to see if there is a statsitically significant difference between the values of the two lists at 95% confidence. The results represent the chances of getting the result that we did because of the magic spell [h1] as opposed to random chance [h0]. This study is reproduceable. Simply run the cells again, casting the magic spell at the correct time. "
   ],
   "cell_type": "markdown",
   "metadata": {}
  },
  {
   "cell_type": "code",
   "execution_count": 14,
   "metadata": {},
   "outputs": [],
   "source": [
    "import random\n",
    "import pandas as pd\n",
    "from functions import linregress as lr"
   ]
  },
  {
   "cell_type": "code",
   "execution_count": 9,
   "metadata": {},
   "outputs": [],
   "source": [
    "#Generate Dependent Variable\n",
    "is_enchanted=[]\n",
    "#Generate Control Group\n",
    "value=[]\n",
    "for i in range(0,60):\n",
    "    d = random.randint(0,100)\n",
    "    value.append(d)\n",
    "    is_enchanted.append(0)"
   ]
  },
  {
   "source": [
    "<h2>Cast Spell Now</h2>"
   ],
   "cell_type": "markdown",
   "metadata": {}
  },
  {
   "cell_type": "code",
   "execution_count": 10,
   "metadata": {},
   "outputs": [],
   "source": [
    "#Generate Test Group\n",
    "for i in range(0,60):\n",
    "    d = random.randint(0,100)\n",
    "    value.append(d)\n",
    "    is_enchanted.append(1)"
   ]
  },
  {
   "cell_type": "code",
   "execution_count": 11,
   "metadata": {},
   "outputs": [],
   "source": [
    "study={\"Enchanted\": is_enchanted, \"Value\": value}"
   ]
  },
  {
   "cell_type": "code",
   "execution_count": 12,
   "metadata": {},
   "outputs": [
    {
     "output_type": "execute_result",
     "data": {
      "text/plain": [
       "     Enchanted  Value\n",
       "0            0     64\n",
       "1            0     72\n",
       "2            0     62\n",
       "3            0     33\n",
       "4            0     43\n",
       "..         ...    ...\n",
       "115          1     40\n",
       "116          1     18\n",
       "117          1     22\n",
       "118          1     76\n",
       "119          1      4\n",
       "\n",
       "[120 rows x 2 columns]"
      ],
      "text/html": "<div>\n<style scoped>\n    .dataframe tbody tr th:only-of-type {\n        vertical-align: middle;\n    }\n\n    .dataframe tbody tr th {\n        vertical-align: top;\n    }\n\n    .dataframe thead th {\n        text-align: right;\n    }\n</style>\n<table border=\"1\" class=\"dataframe\">\n  <thead>\n    <tr style=\"text-align: right;\">\n      <th></th>\n      <th>Enchanted</th>\n      <th>Value</th>\n    </tr>\n  </thead>\n  <tbody>\n    <tr>\n      <th>0</th>\n      <td>0</td>\n      <td>64</td>\n    </tr>\n    <tr>\n      <th>1</th>\n      <td>0</td>\n      <td>72</td>\n    </tr>\n    <tr>\n      <th>2</th>\n      <td>0</td>\n      <td>62</td>\n    </tr>\n    <tr>\n      <th>3</th>\n      <td>0</td>\n      <td>33</td>\n    </tr>\n    <tr>\n      <th>4</th>\n      <td>0</td>\n      <td>43</td>\n    </tr>\n    <tr>\n      <th>...</th>\n      <td>...</td>\n      <td>...</td>\n    </tr>\n    <tr>\n      <th>115</th>\n      <td>1</td>\n      <td>40</td>\n    </tr>\n    <tr>\n      <th>116</th>\n      <td>1</td>\n      <td>18</td>\n    </tr>\n    <tr>\n      <th>117</th>\n      <td>1</td>\n      <td>22</td>\n    </tr>\n    <tr>\n      <th>118</th>\n      <td>1</td>\n      <td>76</td>\n    </tr>\n    <tr>\n      <th>119</th>\n      <td>1</td>\n      <td>4</td>\n    </tr>\n  </tbody>\n</table>\n<p>120 rows × 2 columns</p>\n</div>"
     },
     "metadata": {},
     "execution_count": 12
    }
   ],
   "source": [
    "df=pd.DataFrame(study)\n",
    "df"
   ]
  },
  {
   "cell_type": "code",
   "execution_count": 15,
   "metadata": {},
   "outputs": [
    {
     "output_type": "stream",
     "name": "stdout",
     "text": [
      "Optimization terminated successfully.\n         Current function value: 0.689527\n         Iterations 4\nLOG ODDS\n                           Logit Regression Results                           \n==============================================================================\nDep. Variable:              Enchanted   No. Observations:                  120\nModel:                          Logit   Df Residuals:                      118\nMethod:                           MLE   Df Model:                            1\nDate:                Sun, 18 Apr 2021   Pseudo R-squ.:                0.005223\nTime:                        01:59:43   Log-Likelihood:                -82.743\nconverged:                       True   LL-Null:                       -83.178\nCovariance Type:            nonrobust   LLR p-value:                    0.3513\n==============================================================================\n                 coef    std err          z      P>|z|      [0.025      0.975]\n------------------------------------------------------------------------------\nIntercept      0.3439      0.413      0.832      0.406      -0.466       1.154\nValue         -0.0062      0.007     -0.929      0.353      -0.019       0.007\n==============================================================================\nIntercept    1.410386\nValue        0.993864\ndtype: float64\n\n Residual Plot\n"
     ]
    },
    {
     "output_type": "error",
     "ename": "ModuleNotFoundError",
     "evalue": "No module named 'yellowbrick'",
     "traceback": [
      "\u001b[0;31m---------------------------------------------------------------------------\u001b[0m",
      "\u001b[0;31mModuleNotFoundError\u001b[0m                       Traceback (most recent call last)",
      "\u001b[0;32m<ipython-input-15-669eda9b8bfb>\u001b[0m in \u001b[0;36m<module>\u001b[0;34m\u001b[0m\n\u001b[0;32m----> 1\u001b[0;31m \u001b[0mlr\u001b[0m\u001b[0;34m(\u001b[0m\u001b[0mdf\u001b[0m\u001b[0;34m,\u001b[0m\u001b[0;34m\"Enchanted\"\u001b[0m\u001b[0;34m,\u001b[0m \u001b[0;34m\"Value\"\u001b[0m\u001b[0;34m)\u001b[0m\u001b[0;34m\u001b[0m\u001b[0;34m\u001b[0m\u001b[0m\n\u001b[0m",
      "\u001b[0;32m~/Projects/random/functions.py\u001b[0m in \u001b[0;36mlinregress\u001b[0;34m(*args)\u001b[0m\n\u001b[1;32m    165\u001b[0m     \u001b[0;31m#predictions = model.predict(x)\u001b[0m\u001b[0;34m\u001b[0m\u001b[0;34m\u001b[0m\u001b[0;34m\u001b[0m\u001b[0m\n\u001b[1;32m    166\u001b[0m     \u001b[0;31m#plt.scatter(predictions, predictions - y, color='coral',linewidths=0.5)\u001b[0m\u001b[0;34m\u001b[0m\u001b[0;34m\u001b[0m\u001b[0;34m\u001b[0m\u001b[0m\n\u001b[0;32m--> 167\u001b[0;31m     \u001b[0;31m#plt.hlines(y=0, xmin=predictions.min(), xmax=predictions.max(), color='brown', linewidth=3)\u001b[0m\u001b[0;34m\u001b[0m\u001b[0;34m\u001b[0m\u001b[0;34m\u001b[0m\u001b[0m\n\u001b[0m\u001b[1;32m    168\u001b[0m     \u001b[0;31m#plt.show()\u001b[0m\u001b[0;34m\u001b[0m\u001b[0;34m\u001b[0m\u001b[0;34m\u001b[0m\u001b[0m\n\u001b[1;32m    169\u001b[0m \u001b[0;34m\u001b[0m\u001b[0m\n",
      "\u001b[0;31mModuleNotFoundError\u001b[0m: No module named 'yellowbrick'"
     ]
    }
   ],
   "source": [
    "lr(df,\"Enchanted\", \"Value\")"
   ]
  },
  {
   "source": [
    "<h2>Interpreting Results</h2>\n",
    "Now, examine the P-score (P>|t|) for the variable \"Value\" (not for intercept, this does not tell us anything). This number represnets how confident we can be that casting a spell DOES NOT create bias in our number generation. If P<0.05, we can be 95% confident that the two groups are come from distinct populations, and that our results are not due to random chance. The residuals plot visualizes the results. For maximum rigor, repeat the study several times."
   ],
   "cell_type": "markdown",
   "metadata": {}
  },
  {
   "source": [
    "<h2>Avoiding Cherry-Picking</h2>\n",
    "In order to make sure that anyone who reproduces this study isn't simply running the code over and over again untill they get the false-positive result they are hoping for To check for this, you must re-run the code above several times, casting a magic spell each time for the experimental condition. Log your results and send me your evidence at kpanger88@gmail.com. You must provide proof that you executed the code at least 10 times, casting your your spell each time at the correct time. The best way to do this is with video screencapture evidence. Other forms of evidence are easily tamepered with."
   ],
   "cell_type": "markdown",
   "metadata": {}
  },
  {
   "cell_type": "code",
   "execution_count": null,
   "metadata": {},
   "outputs": [],
   "source": []
  }
 ]
}